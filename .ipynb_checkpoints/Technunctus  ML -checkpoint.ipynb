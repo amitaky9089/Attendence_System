{
 "cells": [
  {
   "cell_type": "code",
   "execution_count": 1,
   "id": "5d1b7620",
   "metadata": {},
   "outputs": [],
   "source": [
    "import numpy as np\n",
    "import pandas as pd"
   ]
  },
  {
   "cell_type": "code",
   "execution_count": 2,
   "id": "8e005dfa",
   "metadata": {},
   "outputs": [],
   "source": [
    "def accuracy(y, yhat):\n",
    "    m = y.shape[0]\n",
    "    error = np.sum((y-yhat)**2)*100/m\n",
    "    acc = 100 - error\n",
    "    return acc"
   ]
  },
  {
   "cell_type": "code",
   "execution_count": 3,
   "id": "c7d4a125",
   "metadata": {},
   "outputs": [
    {
     "name": "stdout",
     "output_type": "stream",
     "text": [
      "66.66666666666666 %\n"
     ]
    }
   ],
   "source": [
    "y = np.array([1,1,0,1,0,1])\n",
    "yhat = np.array([1,1,1,1,0,0])\n",
    "print(accuracy(y, yhat),\"%\")"
   ]
  },
  {
   "cell_type": "code",
   "execution_count": 2,
   "id": "5fac77ea",
   "metadata": {},
   "outputs": [],
   "source": [
    "import smtplib as smt \n",
    "\n",
    "def sendmail(sender_mail,sender_password,message,receiver_mail):\n",
    "    #senders id should have security on less safe app ON.\n",
    "\n",
    "    #here server s is only for gmail servers \n",
    "    s = smt.SMTP('smtp.gmail.com', 587)\n",
    "    s.starttls\n",
    "    s.login(sender_mail, sender_password)\n",
    "    s.sendmail(sender_mail, receiver_mail , message)\n",
    "    s.quit()\n",
    "\n",
    "def send_to_all(sender_mail, sender_password, listofrecievers, name):\n",
    "    for i in range(len(listofrecievers)):\n",
    "        message = f\"Hello, {name[i]}, \\nYour attendance has been  marked.\\nThank You\"\n",
    "        sendmail(sender_mail, sender_password,message,receiver_mail=listofrecievers[i])"
   ]
  },
  {
   "cell_type": "code",
   "execution_count": 3,
   "id": "8126c08c",
   "metadata": {},
   "outputs": [
    {
     "ename": "NameError",
     "evalue": "name 'pd' is not defined",
     "output_type": "error",
     "traceback": [
      "\u001b[1;31m---------------------------------------------------------------------------\u001b[0m",
      "\u001b[1;31mNameError\u001b[0m                                 Traceback (most recent call last)",
      "\u001b[1;32m~\\AppData\\Local\\Temp/ipykernel_2248/473425124.py\u001b[0m in \u001b[0;36m<module>\u001b[1;34m\u001b[0m\n\u001b[1;32m----> 1\u001b[1;33m \u001b[0mdf\u001b[0m \u001b[1;33m=\u001b[0m \u001b[0mpd\u001b[0m\u001b[1;33m.\u001b[0m\u001b[0mread_csv\u001b[0m\u001b[1;33m(\u001b[0m\u001b[1;34m\"name_email_file.csv\"\u001b[0m\u001b[1;33m)\u001b[0m\u001b[1;33m\u001b[0m\u001b[1;33m\u001b[0m\u001b[0m\n\u001b[0m\u001b[0;32m      2\u001b[0m \u001b[0mname\u001b[0m \u001b[1;33m=\u001b[0m \u001b[0mdf\u001b[0m\u001b[1;33m.\u001b[0m\u001b[0miloc\u001b[0m\u001b[1;33m[\u001b[0m\u001b[1;33m:\u001b[0m\u001b[1;33m,\u001b[0m\u001b[1;36m0\u001b[0m\u001b[1;33m]\u001b[0m\u001b[1;33m\u001b[0m\u001b[1;33m\u001b[0m\u001b[0m\n\u001b[0;32m      3\u001b[0m \u001b[0mids\u001b[0m \u001b[1;33m=\u001b[0m \u001b[0mdf\u001b[0m\u001b[1;33m.\u001b[0m\u001b[0miloc\u001b[0m\u001b[1;33m[\u001b[0m\u001b[1;33m:\u001b[0m\u001b[1;33m,\u001b[0m\u001b[1;36m0\u001b[0m\u001b[1;33m]\u001b[0m\u001b[1;33m\u001b[0m\u001b[1;33m\u001b[0m\u001b[0m\n",
      "\u001b[1;31mNameError\u001b[0m: name 'pd' is not defined"
     ]
    }
   ],
   "source": [
    "# List of names and email IDs of all the registered students\n",
    "df = pd.read_csv(\"name_email_file.csv\")\n",
    "stu_name = df.iloc[:,0]\n",
    "stu_ids = df.iloc[:,1]"
   ]
  },
  {
   "cell_type": "code",
   "execution_count": null,
   "id": "4282cc38",
   "metadata": {},
   "outputs": [],
   "source": [
    "DF = pd.read_csv(\"Attendance_file.csv\")\n",
    "atte_name = DF.iloc[:,0]\n",
    "IDs = df.loc[df['names'].isin(atte_name), 'ID']\n",
    "# send_to_all()"
   ]
  },
  {
   "cell_type": "code",
   "execution_count": null,
   "id": "e5d3dbcc",
   "metadata": {},
   "outputs": [],
   "source": [
    "sender_mail = \"student_id@iitjammu.ac.in\"\n",
    "sender_password = \"################\"\n",
    "list_of_recievers = IDs\n",
    "name = atte_name\n",
    "send_to_all(sender_mail, sender_password, listofrecievers, name)"
   ]
  },
  {
   "cell_type": "code",
   "execution_count": null,
   "id": "b9e68e2b",
   "metadata": {},
   "outputs": [],
   "source": []
  }
 ],
 "metadata": {
  "kernelspec": {
   "display_name": "Python 3",
   "language": "python",
   "name": "python3"
  },
  "language_info": {
   "codemirror_mode": {
    "name": "ipython",
    "version": 3
   },
   "file_extension": ".py",
   "mimetype": "text/x-python",
   "name": "python",
   "nbconvert_exporter": "python",
   "pygments_lexer": "ipython3",
   "version": "3.8.8"
  }
 },
 "nbformat": 4,
 "nbformat_minor": 5
}
